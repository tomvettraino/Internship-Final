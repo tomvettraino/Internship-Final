{
 "cells": [
  {
   "cell_type": "code",
   "execution_count": 11,
   "id": "942a581a-6c45-471d-b7da-6e0d206d41a2",
   "metadata": {},
   "outputs": [
    {
     "name": "stdout",
     "output_type": "stream",
     "text": [
      "Monthly Flat-Rate Revenue: £13200.00\n",
      "Monthly Subscription Revenue: £8100.00\n",
      "Monthly Dynamic Pricing Revenue (with rewards): £13656.00\n",
      "Total daily “loss” from rewards.: £20.00\n"
     ]
    }
   ],
   "source": [
    "# Import libraries\n",
    "import pandas as pd\n",
    "\n",
    "# Fleet & user info\n",
    "num_bikes = 200\n",
    "daily_rides = 200          # total rides per day\n",
    "avg_ride_duration = 15     # average ride duration in minutes\n",
    "\n",
    "# Pricing - Flat rate\n",
    "unlock_fee = 1             # £1 to unlock\n",
    "per_minute_rate = 0.08     # £0.08 per minute\n",
    "\n",
    "# Subscription\n",
    "num_subscribers = 150\n",
    "monthly_fee = 30\n",
    "pass_minutes = 300          # included minutes per month\n",
    "\n",
    "# Dynamic pricing multipliers\n",
    "peak_multiplier = 1.5       # 50% more during peak hours\n",
    "offpeak_multiplier = 0.8    # 20% less during off-peak\n",
    "peak_fraction = 0.4         # 40% of rides occur during peak\n",
    "offpeak_fraction = 1 - peak_fraction\n",
    "\n",
    "# Redistribution / return rewards\n",
    "reward_fraction = 0.2       # 20% of rides end at underused stations and get reward\n",
    "reward_discount = 0.50      # £0.50 discount per qualifying ride\n",
    "\n",
    "# Revenue per ride (base)\n",
    "revenue_per_ride = unlock_fee + (avg_ride_duration * per_minute_rate)\n",
    "\n",
    "#---------------------- Flat-Rate Revenue ----------------------#\n",
    "monthly_flat_revenue = revenue_per_ride * daily_rides * 30\n",
    "print(f\"Monthly Flat-Rate Revenue: £{monthly_flat_revenue:.2f}\")\n",
    "\n",
    "#---------------------- Subscription Revenue ----------------------#\n",
    "subscription_revenue = num_subscribers * monthly_fee\n",
    "extra_minutes = max(0, avg_ride_duration * daily_rides * 30 - num_subscribers * pass_minutes)\n",
    "extra_revenue = extra_minutes * per_minute_rate\n",
    "total_subscription_revenue = subscription_revenue + extra_revenue\n",
    "print(f\"Monthly Subscription Revenue: £{total_subscription_revenue:.2f}\")\n",
    "\n",
    "#---------------------- Dynamic Pricing Revenue ----------------------#\n",
    "# Split rides\n",
    "peak_rides = daily_rides * peak_fraction\n",
    "offpeak_rides = daily_rides * offpeak_fraction\n",
    "\n",
    "# Base revenue with multipliers\n",
    "peak_revenue = peak_rides * revenue_per_ride * peak_multiplier\n",
    "offpeak_revenue = offpeak_rides * revenue_per_ride * offpeak_multiplier\n",
    "\n",
    "# Total daily revenue before rewards\n",
    "daily_dynamic_revenue = peak_revenue + offpeak_revenue\n",
    "\n",
    "# Apply rewards for redistribution rides\n",
    "reward_revenue = reward_fraction * daily_rides * reward_discount\n",
    "daily_dynamic_revenue_after_rewards = daily_dynamic_revenue - reward_revenue\n",
    "\n",
    "# Monthly total\n",
    "monthly_dynamic_revenue = daily_dynamic_revenue_after_rewards * 30\n",
    "print(f\"Monthly Dynamic Pricing Revenue (with rewards): £{monthly_dynamic_revenue:.2f}\")\n",
    "print(f\"Total daily “loss” from rewards.: £{reward_revenue:.2f}\")\n"
   ]
  }
 ],
 "metadata": {
  "kernelspec": {
   "display_name": "Python [conda env:base] *",
   "language": "python",
   "name": "conda-base-py"
  },
  "language_info": {
   "codemirror_mode": {
    "name": "ipython",
    "version": 3
   },
   "file_extension": ".py",
   "mimetype": "text/x-python",
   "name": "python",
   "nbconvert_exporter": "python",
   "pygments_lexer": "ipython3",
   "version": "3.13.5"
  }
 },
 "nbformat": 4,
 "nbformat_minor": 5
}
