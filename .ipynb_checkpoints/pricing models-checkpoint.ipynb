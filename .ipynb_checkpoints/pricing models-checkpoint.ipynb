{
 "cells": [
  {
   "cell_type": "code",
   "execution_count": 7,
   "id": "78e71225-fd50-43d6-b952-ac3e9ee07b72",
   "metadata": {},
   "outputs": [
    {
     "name": "stdout",
     "output_type": "stream",
     "text": [
      "Monthly Flat-Rate Revenue: £13200.00\n",
      "Monthly Subscription Revenue: £8100.00\n",
      "Monthly Dynamic Pricing Revenue: £15840.00\n"
     ]
    }
   ],
   "source": [
    "# Import libraries\n",
    "import pandas as pd\n",
    "\n",
    "# Fleet & user info\n",
    "num_bikes = 200\n",
    "daily_rides = 200          # total rides per day\n",
    "avg_ride_duration = 15     # average ride duration in minutes\n",
    "\n",
    "# Pricing - Flat rate\n",
    "unlock_fee = 1             # £1 to unlock\n",
    "per_minute_rate = 0.08     # £0.08 per minute\n",
    "\n",
    "# Subscription\n",
    "num_subscribers = 150\n",
    "monthly_fee = 30\n",
    "pass_minutes = 300          # included minutes per month\n",
    "\n",
    "# Dynamic pricing multipliers (example)\n",
    "peak_hours_multiplier = 1.5\n",
    "offpeak_multiplier = 0.8\n",
    "avg_dynamic_multiplier = 1.2  # weighted average multiplier for all rides\n",
    "\n",
    "# Revenue per ride\n",
    "revenue_per_ride = unlock_fee + (avg_ride_duration * per_minute_rate)\n",
    "\n",
    "# Monthly revenue (assume 30 days)\n",
    "monthly_flat_revenue = revenue_per_ride * daily_rides * 30\n",
    "print(f\"Monthly Flat-Rate Revenue: £{monthly_flat_revenue:.2f}\")\n",
    "#-----------------------------------------------------------------------------------------------------------------------------------------\n",
    "\n",
    "# Base subscription revenue\n",
    "subscription_revenue = num_subscribers * monthly_fee\n",
    "\n",
    "# Extra revenue if subscribers exceed included minutes\n",
    "extra_minutes = max(0, avg_ride_duration * daily_rides * 30 - num_subscribers * pass_minutes)\n",
    "extra_revenue = extra_minutes * per_minute_rate\n",
    "\n",
    "total_subscription_revenue = subscription_revenue + extra_revenue\n",
    "print(f\"Monthly Subscription Revenue: £{total_subscription_revenue:.2f}\")\n",
    "\n",
    "#-----------------------------------------------------------------------------------------------------------------------------------------\n",
    "\n",
    "# Apply average dynamic multiplier\n",
    "dynamic_revenue_per_ride = revenue_per_ride * avg_dynamic_multiplier\n",
    "monthly_dynamic_revenue = dynamic_revenue_per_ride * daily_rides * 30\n",
    "print(f\"Monthly Dynamic Pricing Revenue: £{monthly_dynamic_revenue:.2f}\")\n"
   ]
  }
 ],
 "metadata": {
  "kernelspec": {
   "display_name": "Python [conda env:base] *",
   "language": "python",
   "name": "conda-base-py"
  },
  "language_info": {
   "codemirror_mode": {
    "name": "ipython",
    "version": 3
   },
   "file_extension": ".py",
   "mimetype": "text/x-python",
   "name": "python",
   "nbconvert_exporter": "python",
   "pygments_lexer": "ipython3",
   "version": "3.13.5"
  }
 },
 "nbformat": 4,
 "nbformat_minor": 5
}
