{
 "cells": [
  {
   "cell_type": "code",
   "execution_count": 2,
   "id": "1fc1cde0-c258-497e-bdcf-2dea9d7b6646",
   "metadata": {},
   "outputs": [],
   "source": [
    "import collections\n",
    "\n",
    "import numpy as np\n",
    "import pandas as pd\n",
    "import matplotlib.pyplot as pp\n",
    "\n",
    "%matplotlib inline \n",
    "# prints outputs driectly below the cell rather than in another tab or window"
   ]
  },
  {
   "cell_type": "code",
   "execution_count": 3,
   "id": "8bb0a570-0fad-4824-ad3c-9dee38836d12",
   "metadata": {},
   "outputs": [],
   "source": [
    "pd.options.display.max_rows = 6"
   ]
  },
  {
   "cell_type": "code",
   "execution_count": 11,
   "id": "0d73b5d1-561a-4335-86ea-94f1c5ec5c76",
   "metadata": {},
   "outputs": [],
   "source": [
    "dailyhire = pd.read_csv('tfl-daily-cycle-hires.csv', header = 5) \n",
    "#header determines where the column headers are in this case row 5"
   ]
  },
  {
   "cell_type": "code",
   "execution_count": 12,
   "id": "dab8ec37-5c71-4c90-9783-b82062a09cb5",
   "metadata": {},
   "outputs": [
    {
     "data": {
      "text/plain": [
       "Index(['Day', 'Number of Bicycle Hires', 'Unnamed: 2', 'Month',\n",
       "       'Number of Bicycle Hires.1', 'Unnamed: 5', 'Year',\n",
       "       'Number of Bicycle Hires.2', 'Unnamed: 8', 'Unnamed: 9', 'Month.1',\n",
       "       'Average Hire Time (mins)', 'Unnamed: 12', 'Against last month',\n",
       "       'Against last year'],\n",
       "      dtype='object')"
      ]
     },
     "execution_count": 12,
     "metadata": {},
     "output_type": "execute_result"
    }
   ],
   "source": [
    "dailyhire.head\n",
    "dailyhire.columns"
   ]
  },
  {
   "cell_type": "code",
   "execution_count": 26,
   "id": "a0ec8c22-d240-4bc3-928f-4f843a6d9cd0",
   "metadata": {},
   "outputs": [],
   "source": [
    "# Assistant\n",
    "# Cleaning the Data\n",
    "\n",
    "# First, let's handle the Year column properly\n",
    "# Instead of filling with 0, let's use a more appropriate approach\n",
    "# Option 1: Drop rows with NaN in Year column\n",
    "dailyhire = dailyhire.dropna(subset=['Year'])\n",
    "\n",
    "# Now convert Year to integer\n",
    "dailyhire['Year'] = dailyhire['Year'].astype(int)\n",
    "\n",
    "# For Month-Year conversion, we need to handle the format more carefully\n",
    "# Using errors='coerce' will convert problematic dates to NaT (Not a Time)\n",
    "# which we can then handle appropriately\n",
    "dailyhire['Month-Year'] = pd.to_datetime(dailyhire['Month-Year'], errors='coerce')"
   ]
  }
 ],
 "metadata": {
  "kernelspec": {
   "display_name": "Python [conda env:base] *",
   "language": "python",
   "name": "conda-base-py"
  },
  "language_info": {
   "codemirror_mode": {
    "name": "ipython",
    "version": 3
   },
   "file_extension": ".py",
   "mimetype": "text/x-python",
   "name": "python",
   "nbconvert_exporter": "python",
   "pygments_lexer": "ipython3",
   "version": "3.13.5"
  }
 },
 "nbformat": 4,
 "nbformat_minor": 5
}
